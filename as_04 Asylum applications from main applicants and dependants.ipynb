{
 "cells": [
  {
   "cell_type": "markdown",
   "metadata": {},
   "source": [
    "as_04: Asylum applications from main applicants and dependants, by age, sex and country of nationality"
   ]
  },
  {
   "cell_type": "code",
   "execution_count": 1,
   "metadata": {},
   "outputs": [
    {
     "data": {
      "text/markdown": [
       "## Immigration statistics, October to December 2017: data tables second edition\n",
       "\n",
       "Listing of the data tables included in 'Immigration statistics, October to December 2017’.\n",
       "\n",
       "### Description\n",
       "\n",
       "Listing of the data tables included in [‘Immigration Statistics, October to\n",
       "December 2017’](https://www.gov.uk/government/statistics/immigration-\n",
       "statistics-october-to-december-2017).\n",
       "\n",
       "Data is in yearly or quarterly divisions.\n",
       "\n",
       "To view and use ‘ODS’ files, OS X users can [download\n",
       "OpenOffice](http://www.openoffice.org/download/).\n",
       "\n",
       "\n",
       "\n",
       "### Distributions\n",
       "\n",
       "1. Sponsorship data tables immigration statistics October to December 2017 ([ODF Spreadsheet](https://www.gov.uk/government/uploads/system/uploads/attachment_data/file/683358/sponsorship-oct-dec-2017-tables.ods))\n",
       "1. Entry clearance visas granted outside the UK data tables immigration statistics October to December 2017 volume 1 ([ODF Spreadsheet](https://www.gov.uk/government/uploads/system/uploads/attachment_data/file/683359/entry-visas1-oct-dec-2017-tables.ods))\n",
       "1. Entry clearance visas granted outside the UK data tables immigration statistics October to December 2017 volume 2 ([ODF Spreadsheet](https://www.gov.uk/government/uploads/system/uploads/attachment_data/file/681238/entry-visas2-oct-dec-2017-tables.ods))\n",
       "1. Entry clearance visas granted outside the UK data tables immigration statistics October to December 2017 volume 3 ([ODF Spreadsheet](https://www.gov.uk/government/uploads/system/uploads/attachment_data/file/681241/entry-visas3-oct-dec-2017-tables.ods))\n",
       "1. Admissions data tables immigration statistics October to December 2017 ([ODF Spreadsheet](https://www.gov.uk/government/uploads/system/uploads/attachment_data/file/681242/admissions-oct-dec-2017-tables.ods))\n",
       "1. Extensions of stay data tables immigration statistics October to December 2017 ([ODF Spreadsheet](https://www.gov.uk/government/uploads/system/uploads/attachment_data/file/681243/extensions-oct-dec-2017-tables.ods))\n",
       "1. Settlement data tables immigration statistics October to December 2017 ([ODF Spreadsheet](https://www.gov.uk/government/uploads/system/uploads/attachment_data/file/681244/settlement-oct-dec-2017-tables.ods))\n",
       "1. Citizenship data tables immigration statistics October to December 2017 ([ODF Spreadsheet](https://www.gov.uk/government/uploads/system/uploads/attachment_data/file/683360/citizenship-oct-dec-2017-tables.ods))\n",
       "1. Asylum data tables immigration statistics October to December 2017 volume 1 second edition ([ODF Spreadsheet](https://www.gov.uk/government/uploads/system/uploads/attachment_data/file/691963/asylum1-oct-dec-2017-tables.ods))\n",
       "1. Asylum data tables immigration statistics October to December 2017 volume 2 second edition ([ODF Spreadsheet](https://www.gov.uk/government/uploads/system/uploads/attachment_data/file/691964/asylum2-oct-dec-2017-tables.ods))\n",
       "1. Asylum data tables immigration statistics October to December 2017 volume 3 ([ODF Spreadsheet](https://www.gov.uk/government/uploads/system/uploads/attachment_data/file/691965/asylum3-oct-dec-2017-tables.ods))\n",
       "1. Asylum data tables immigration statistics October to December 2017 volume 4 ([ODF Spreadsheet](https://www.gov.uk/government/uploads/system/uploads/attachment_data/file/691967/asylum4-oct-dec-2017-tables.ods))\n",
       "1. Asylum data tables immigration statistics October to December 2017 volume 5 ([ODF Spreadsheet](https://www.gov.uk/government/uploads/system/uploads/attachment_data/file/691969/asylum5-oct-dec-2017-tables.ods))\n",
       "1. Returns data tables immigration statistics October to December 2017 volume 1 ([ODF Spreadsheet](https://www.gov.uk/government/uploads/system/uploads/attachment_data/file/681246/returns1-oct-dec-2017-tables.ods))\n",
       "1. Returns data tables immigration statistics October to December 2017 volume 2 ([ODF Spreadsheet](https://www.gov.uk/government/uploads/system/uploads/attachment_data/file/683361/returns2-oct-dec-2017-tables.ods))\n",
       "1. Returns data tables immigration statistics October to December 2017 volume 3 ([ODF Spreadsheet](https://www.gov.uk/government/uploads/system/uploads/attachment_data/file/683362/returns3-oct-dec-2017-tables.ods))\n",
       "1. Returns data tables immigration statistics October to December 2017 volume 4 ([ODF Spreadsheet](https://www.gov.uk/government/uploads/system/uploads/attachment_data/file/681250/returns4-oct-dec-2017-tables.ods))\n",
       "1. Returns data tables immigration statistics October to December 2017 volume 5 ([ODF Spreadsheet](https://www.gov.uk/government/uploads/system/uploads/attachment_data/file/681251/returns5-oct-dec-2017-tables.ods))\n",
       "1. Detention data tables immigration statistics October to December 2017 ([ODF Spreadsheet](https://www.gov.uk/government/uploads/system/uploads/attachment_data/file/681703/detention-oct-dec-2017-tables.ods))\n",
       "1. European Economic Area data tables immigration statistics October to December 2017 ([ODF Spreadsheet](https://www.gov.uk/government/uploads/system/uploads/attachment_data/file/681253/eea-oct-dec-2017-tables.ods))\n"
      ],
      "text/plain": [
       "<gssutils.scrape.Scraper at 0x7f257075dba8>"
      ]
     },
     "execution_count": 1,
     "metadata": {},
     "output_type": "execute_result"
    }
   ],
   "source": [
    "from gssutils import *\n",
    "\n",
    "scraper = Scraper('https://www.gov.uk/government/statistics/immigration-statistics-october-to-december-2017-data-tables')\n",
    "scraper"
   ]
  },
  {
   "cell_type": "code",
   "execution_count": 2,
   "metadata": {},
   "outputs": [
    {
     "name": "stderr",
     "output_type": "stream",
     "text": [
      "WARNING:Cache entry deserialization failed, entry ignored\n"
     ]
    },
    {
     "data": {
      "text/plain": [
       "dict_keys(['Cover_sheet', 'Contents', 'Notes', 'as_02_q', 'as_02_q_c', 'as_03', 'as_04', 'as_05', 'as_06'])"
      ]
     },
     "execution_count": 2,
     "metadata": {},
     "output_type": "execute_result"
    }
   ],
   "source": [
    "dist = scraper.distribution(\n",
    "    title='Asylum data tables immigration statistics October to December 2017 volume 2 second edition')\n",
    "sheets = dist.as_pandas()\n",
    "sheets.keys()"
   ]
  },
  {
   "cell_type": "markdown",
   "metadata": {},
   "source": [
    "Metadata is in the spreadsheet 'Contents' tab"
   ]
  },
  {
   "cell_type": "code",
   "execution_count": 3,
   "metadata": {},
   "outputs": [
    {
     "data": {
      "text/plain": [
       "Table                                                               as_04\n",
       "Title                   Asylum applications from main applicants and d...\n",
       "Period covered                                               2008 to 2016\n",
       "National Statistics?                                                  Yes\n",
       "Last updated                                          2017-08-24 00:00:00\n",
       "Next planned update                                   2018-08-23 00:00:00\n",
       "Notes                                                                    \n",
       "Name: 16, dtype: object"
      ]
     },
     "metadata": {},
     "output_type": "display_data"
    },
    {
     "data": {
      "text/html": [
       "<h3>PMDDataset</h3>\n",
       "<dl><dt>rdfs:label</dt><dd>&quot;Asylum applications from main applicants and dependants, by age, sex and country of nationality&quot;@en</dd>\n",
       "<dt>rdfs:comment</dt><dd>&quot;Asylum data tables immigration statistics October to December 2017 volume 4, table \\&quot;as_04\\&quot;&quot;@en</dd>\n",
       "<dt>dct:title</dt><dd>&quot;Asylum applications from main applicants and dependants, by age, sex and country of nationality&quot;@en</dd>\n",
       "<dt>dct:publisher</dt><dd><a href=https://www.gov.uk/government/organisations/home-office>&lt;https://www.gov.uk/government/organisations/home-office&gt;</a></dd>\n",
       "<dt>dct:issued</dt><dd>&quot;2017-08-24T00:00:00&quot;^^&lt;http://www.w3.org/2001/XMLSchema#dateTime&gt;</dd>\n",
       "<dt>dct:modified</dt><dd>&quot;2019-03-04T15:13:36.699598&quot;^^&lt;http://www.w3.org/2001/XMLSchema#dateTime&gt;</dd>\n",
       "<dt>dcat:landingPage</dt><dd><a href=https://www.gov.uk/government/statistics/immigration-statistics-october-to-december-2017-data-tables>&lt;https://www.gov.uk/government/statistics/immigration-statistics-october-to-december-2017-data-tables&gt;</a></dd>\n",
       "<dt>pmd:updateDueOn</dt><dd>&quot;2018-08-23T00:00:00&quot;^^&lt;http://www.w3.org/2001/XMLSchema#dateTime&gt;</dd>\n",
       "<dt>void:sparqlEndpoint</dt><dd><a href=/sparql>&lt;/sparql&gt;</a></dd>\n",
       "<dt>pmd:graph</dt><dd><a href=graph/www/gov/uk/government/statistics/immigration-statistics-october-to-december-2017-data-tables>&lt;graph/www/gov/uk/government/statistics/immigration-statistics-october-to-december-2017-data-tables&gt;</a></dd>\n",
       "<dt>dct:license</dt><dd><a href=https://www.nationalarchives.gov.uk/doc/open-government-licence/version/3/>&lt;https://www.nationalarchives.gov.uk/doc/open-government-licence/version/3/&gt;</a></dd>\n",
       "<dt>dct:creator</dt><dd><a href=https://www.gov.uk/government/organisations/home-office>&lt;https://www.gov.uk/government/organisations/home-office&gt;</a></dd>\n",
       "</dl>"
      ],
      "text/plain": [
       "<gssutils.metadata.PMDDataset at 0x7f25a0504358>"
      ]
     },
     "execution_count": 3,
     "metadata": {},
     "output_type": "execute_result"
    }
   ],
   "source": [
    "TAB_NAME = 'as_04'\n",
    "\n",
    "contents = sheets['Contents'].iloc[7:].copy()\n",
    "contents.rename(columns=contents.iloc[0], inplace=True)\n",
    "contents.drop(contents.index[0], inplace=True)\n",
    "metadata = contents[contents['Table'] == TAB_NAME].iloc[0]\n",
    "display(metadata)\n",
    "scraper.dataset.comment = f'{scraper.dataset.title}: table \"{TAB_NAME}\"'\n",
    "scraper.dataset.title = metadata['Title']\n",
    "scraper.dataset.issued = metadata['Last updated']\n",
    "scraper.dataset.updateDueOn = metadata['Next planned update']\n",
    "del scraper.dataset.description\n",
    "scraper.dataset"
   ]
  },
  {
   "cell_type": "markdown",
   "metadata": {},
   "source": [
    "https://www.gov.uk/government/uploads/system/uploads/attachment_data/file/691964/asylum2-oct-dec-2017-tables.ods"
   ]
  },
  {
   "cell_type": "code",
   "execution_count": 4,
   "metadata": {},
   "outputs": [],
   "source": [
    "observations = sheets[TAB_NAME].loc[3:, :36]\n",
    "observations.rename(columns= observations.iloc[0], inplace=True)\n",
    "observations.drop(observations.index[0], inplace = True)\n",
    "observations.drop('Geographical region', axis = 1, inplace = True)\n",
    "Final_table = pd.melt(observations,\n",
    "                       ['Year','Country of nationality'],\n",
    "                       var_name= 'Application',\n",
    "                       value_name=\"Value\")\n",
    "Final_table.Value.dropna(inplace =True)\n",
    "Final_table.rename(columns={'Country of nationality': 'Nationality'}, inplace=True)\n",
    "Final_table['Unit'] = 'applications'\n",
    "Final_table['Measure Type'] = 'Count'"
   ]
  },
  {
   "cell_type": "code",
   "execution_count": 5,
   "metadata": {},
   "outputs": [],
   "source": [
    "Final_table['Value'] = Final_table['Value'].map(lambda x : ''\n",
    "                                                   if (x == '.') | (x == 'z') | ( x == ':')\n",
    "                                                    else x )"
   ]
  },
  {
   "cell_type": "code",
   "execution_count": 6,
   "metadata": {},
   "outputs": [],
   "source": [
    "import numpy as np\n",
    "Final_table['Value'].replace('', np.nan, inplace=True)\n",
    "Final_table.dropna(subset=['Value'], inplace=True)\n",
    "Final_table['Value'] = Final_table['Value'].apply(lambda x: pd.to_numeric(x, downcast='integer'))\n",
    "Final_table['Value'] = Final_table['Value'].astype(int)"
   ]
  },
  {
   "cell_type": "code",
   "execution_count": 7,
   "metadata": {},
   "outputs": [],
   "source": [
    "Final_table.rename(columns={'Year': 'Period'}, inplace=True)\n",
    "Final_table['Period'] = Final_table['Period'].astype(str)\n",
    "Final_table = Final_table[Final_table['Period'] != '']\n",
    "Final_table['Period'] = 'year/' + Final_table['Period'].map(lambda cell: cell.replace(' ','-'))"
   ]
  },
  {
   "cell_type": "code",
   "execution_count": 8,
   "metadata": {},
   "outputs": [],
   "source": [
    "Final_table['Nationality'] = Final_table['Nationality'].str.lstrip('*')"
   ]
  },
  {
   "cell_type": "code",
   "execution_count": 9,
   "metadata": {},
   "outputs": [],
   "source": [
    "Final_table['Nationality'] = Final_table['Nationality'].map(\n",
    "    lambda x: {\n",
    "        'Total Africa North' : 'Africa North',\n",
    "        'Total Africa Sub-Saharan' : 'Africa Sub-Saharan',\n",
    "        'Total America North' : 'America North',\n",
    "        'Total America Central and South ' : 'America Central and South',\n",
    "        'Total Asia Central' : 'Asia Central',\n",
    "        'Total Asia East' : 'Asia East',\n",
    "        'Total Asia South' : 'Asia South',\n",
    "        'Total Asia South East' : 'Asia South East',\n",
    "        'Total EU 14' : 'EU 14',\n",
    "        'Total EU 2' : 'EU 2',\n",
    "        'Total EU 8' : 'EU 8',\n",
    "        'Total EU Other' : 'EU Other',\n",
    "        'Total Europe Other' : 'Europe Other',\n",
    "        'Total Middle East' : 'Middle East',\n",
    "        'Total Oceania' : 'Oceania',\n",
    "        'Total Other' : 'Other'                    \n",
    "        }.get(x, x))"
   ]
  },
  {
   "cell_type": "code",
   "execution_count": 10,
   "metadata": {},
   "outputs": [],
   "source": [
    "import urllib.request as request\n",
    "import csv\n",
    "import io\n",
    "import requests\n",
    "r = request.urlopen('https://raw.githubusercontent.com/ONS-OpenData/ref_migration/master/codelists/ho-country-of-nationality.csv').read().decode('utf8').split(\"\\n\")\n",
    "reader = csv.reader(r)\n",
    "url=\"https://raw.githubusercontent.com/ONS-OpenData/ref_migration/master/codelists/ho-country-of-nationality.csv\"\n",
    "s=requests.get(url).content\n",
    "c=pd.read_csv(io.StringIO(s.decode('utf-8')))\n",
    "Final_table = pd.merge(Final_table, c, how = 'left', left_on = 'Nationality', right_on = 'Label')\n",
    "Final_table.columns = ['HO Country of Nationality' if x=='Notation' else x for x in Final_table.columns]"
   ]
  },
  {
   "cell_type": "code",
   "execution_count": 11,
   "metadata": {},
   "outputs": [],
   "source": [
    "Final_table = Final_table[['HO Country of Nationality','Period','Application','Measure Type','Value','Unit']]"
   ]
  },
  {
   "cell_type": "code",
   "execution_count": 12,
   "metadata": {},
   "outputs": [],
   "source": [
    "Final_table['Age'] = Final_table['Application'].map(\n",
    "    lambda x: {\n",
    "        'Total Applications' : 'all',\n",
    "        'Total male applications' : 'all', \n",
    "        'Male: \\nunder 5' : 'hoad/under-5',\n",
    "         'Male: 5-9' : 'hoad/5-9', \n",
    "        'Male: 10-13' : 'hoad/10-13', \n",
    "        'Male: 14-15' : 'hoad/14-15', \n",
    "        'Male: 16-17' : 'hoad/16-17',\n",
    "         'Male: 18-20' : 'hoad/18-20', \n",
    "        'Male: 21-24' : 'hoad/21-24', \n",
    "        'Male: 25-29' : 'hoad/25-29', \n",
    "        'Male: 30-34' : 'hoad/30-34',\n",
    "         'Male: 35-39' : 'hoad/35-39', \n",
    "        'Male: 40-49' : 'hoad/40-49', \n",
    "        'Male: 50-59': 'hoad/50-59', \n",
    "        'Male: 60-64' : 'hoad/60-64',\n",
    "        'Male: 65+' : 'hoad/65-plus', \n",
    "        'Male: Age unknown' : 'hoad/unknown', \n",
    "        'Total female applications' : 'all',\n",
    "        'Female: under 5' : 'hoad/under-5', \n",
    "        'Female: \\n5-9' : 'hoad/5-9', \n",
    "        'Female: 10-13' : 'hoad/10-13',\n",
    "         'Female: 14-15' : 'hoad/14-15', \n",
    "        'Female: 16-17' : 'hoad/16-17', \n",
    "        'Female: 18-20' : 'hoad/18-20', \n",
    "        'Female: 21-24': 'hoad/21-24',\n",
    "        'Female: 25-29' : 'hoad/25-29', \n",
    "        'Female: 30-34': 'hoad/30-34', \n",
    "        'Female: 35-39' : 'hoad/35-39', \n",
    "        'Female: 40-49' : 'hoad/40-49',\n",
    "         'Female: 50-59' : 'hoad/50-59', \n",
    "        'Female: 60-64' : 'hoad/60-64', \n",
    "        'Female: \\n65+': 'hoad/65-plus',\n",
    "        'Female: Age unknown' : 'hoad/unknown', \n",
    "        'Sex unknown' : 'hoad/unknown'\n",
    "        }.get(x, x))"
   ]
  },
  {
   "cell_type": "code",
   "execution_count": 13,
   "metadata": {},
   "outputs": [],
   "source": [
    "Final_table['Sex'] = Final_table['Application'].map(\n",
    "    lambda x: {\n",
    "        'Total Applications' : 'T',\n",
    "        'Total male applications' : 'M', \n",
    "        'Male: \\nunder 5' : 'M',\n",
    "         'Male: 5-9' : 'M', \n",
    "        'Male: 10-13' : 'M', \n",
    "        'Male: 14-15' : 'M', \n",
    "        'Male: 16-17' : 'M',\n",
    "         'Male: 18-20' : 'M', \n",
    "        'Male: 21-24' : 'M', \n",
    "        'Male: 25-29' : 'M', \n",
    "        'Male: 30-34' : 'M',\n",
    "         'Male: 35-39' : 'M', \n",
    "        'Male: 40-49' : 'M', \n",
    "        'Male: 50-59': 'M', \n",
    "        'Male: 60-64' : 'M',\n",
    "        'Male: 65+' : 'M', \n",
    "        'Male: Age unknown' : 'M', \n",
    "        'Total female applications' : 'F',\n",
    "        'Female: under 5' : 'F', \n",
    "        'Female: \\n5-9' : 'F', \n",
    "        'Female: 10-13' : 'F',\n",
    "         'Female: 14-15' : 'F', \n",
    "        'Female: 16-17' : 'F', \n",
    "        'Female: 18-20' : 'F', \n",
    "        'Female: 21-24': 'F',\n",
    "        'Female: 25-29' : 'F', \n",
    "        'Female: 30-34': 'F', \n",
    "        'Female: 35-39' : 'F', \n",
    "        'Female: 40-49' : 'F',\n",
    "         'Female: 50-59' : 'F', \n",
    "        'Female: 60-64' : 'F', \n",
    "        'Female: \\n65+': 'F',\n",
    "        'Female: Age unknown' : 'F', \n",
    "        'Sex unknown' : 'U'\n",
    "        }.get(x, x))"
   ]
  },
  {
   "cell_type": "code",
   "execution_count": 14,
   "metadata": {},
   "outputs": [],
   "source": [
    "Final_table = Final_table[['HO Country of Nationality','Period','Age','Sex','Measure Type','Value','Unit']]"
   ]
  },
  {
   "cell_type": "code",
   "execution_count": 15,
   "metadata": {},
   "outputs": [],
   "source": [
    "destinationFolder = Path('out')\n",
    "destinationFolder.mkdir(exist_ok=True, parents=True)\n",
    "\n",
    "Final_table.drop_duplicates().to_csv(destinationFolder / f'{TAB_NAME}.csv', index = False)"
   ]
  },
  {
   "cell_type": "code",
   "execution_count": 16,
   "metadata": {},
   "outputs": [],
   "source": [
    "from gssutils.metadata import THEME\n",
    "\n",
    "scraper.dataset.family = 'migration'\n",
    "scraper.dataset.theme = THEME['population']\n",
    "scraper.set_base_uri('http://gss-data.org.uk')\n",
    "scraper.set_dataset_id(f'migration/ho-asylum/{TAB_NAME}')\n",
    "with open(destinationFolder / f'{TAB_NAME}.csv-metadata.trig', 'wb') as metadata:\n",
    "    metadata.write(scraper.generate_trig())"
   ]
  },
  {
   "cell_type": "code",
   "execution_count": 17,
   "metadata": {},
   "outputs": [],
   "source": [
    "schema = CSVWSchema('https://ons-opendata.github.io/ref_migration/')\n",
    "schema.create(destinationFolder / f'{TAB_NAME}.csv', destinationFolder / f'{TAB_NAME}.csv-schema.json')"
   ]
  }
 ],
 "metadata": {
  "kernelspec": {
   "display_name": "Python 3",
   "language": "python",
   "name": "python3"
  },
  "language_info": {
   "codemirror_mode": {
    "name": "ipython",
    "version": 3
   },
   "file_extension": ".py",
   "mimetype": "text/x-python",
   "name": "python",
   "nbconvert_exporter": "python",
   "pygments_lexer": "ipython3",
   "version": "3.7.2"
  }
 },
 "nbformat": 4,
 "nbformat_minor": 2
}
