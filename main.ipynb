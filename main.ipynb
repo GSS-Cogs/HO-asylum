{
 "cells": [
  {
   "cell_type": "code",
   "execution_count": 1,
   "metadata": {
    "scrolled": false
   },
   "outputs": [
    {
     "data": {
      "text/plain": [
       "\"Loading 'Asylum data tables immigration statistics October to December 2017 volume 1 second edition', sheet 'as_01_q'...\""
      ]
     },
     "metadata": {},
     "output_type": "display_data"
    },
    {
     "data": {
      "text/plain": [
       "'in 15s'"
      ]
     },
     "metadata": {},
     "output_type": "display_data"
    },
    {
     "data": {
      "text/plain": [
       "\"Processing 'Asylum data tables immigration statistics October to December 2017 volume 1 second edition', sheet 'as_01_q'\""
      ]
     },
     "metadata": {},
     "output_type": "display_data"
    },
    {
     "data": {
      "text/plain": [
       "'Country of nationality'"
      ]
     },
     "metadata": {},
     "output_type": "display_data"
    },
    {
     "data": {
      "text/plain": [
       "Index(['afghanistan', 'africa-north', 'africa-sub-saharan', 'albania',\n",
       "       'algeria', 'america-central-and-south', 'america-north',\n",
       "       'american-samoa', 'andorra', 'angola',\n",
       "       ...\n",
       "       'vatican-city', 'venezuela', 'vietnam', 'virgin-islands-british',\n",
       "       'virgin-islands-us', 'wallis-and-futuna', 'western-sahara', 'yemen',\n",
       "       'zambia', 'zimbabwe'],\n",
       "      dtype='object', length=264)"
      ]
     },
     "metadata": {},
     "output_type": "display_data"
    },
    {
     "data": {
      "text/plain": [
       "'Asylum Application'"
      ]
     },
     "metadata": {},
     "output_type": "display_data"
    },
    {
     "data": {
      "text/plain": [
       "Index(['3rd country refusals', 'Applications received at ports',\n",
       "       'Applications received in-country', 'Certified refusals',\n",
       "       'Fresh claims', 'Grants of DL', 'Grants of ELR', 'Grants of HP',\n",
       "       'Grants of asylum', 'Non-compliance refusals',\n",
       "       'Non-substantiated withdrawals', 'Other grants', 'Other refusals',\n",
       "       'Pending further review',\n",
       "       'Pending initial decision for less than or equal to 6 months',\n",
       "       'Pending initial decision for more than 6 months', 'Total applications',\n",
       "       'Total grants', 'Total initial decisions', 'Total pending',\n",
       "       'Total pending initial decision', 'Total refusals',\n",
       "       'Total withdrawals'],\n",
       "      dtype='object')"
      ]
     },
     "metadata": {},
     "output_type": "display_data"
    },
    {
     "data": {
      "text/plain": [
       "'Measure Type'"
      ]
     },
     "metadata": {},
     "output_type": "display_data"
    },
    {
     "data": {
      "text/plain": [
       "Index(['Count'], dtype='object')"
      ]
     },
     "metadata": {},
     "output_type": "display_data"
    },
    {
     "data": {
      "text/plain": [
       "'Unit'"
      ]
     },
     "metadata": {},
     "output_type": "display_data"
    },
    {
     "data": {
      "text/plain": [
       "Index(['applications'], dtype='object')"
      ]
     },
     "metadata": {},
     "output_type": "display_data"
    },
    {
     "data": {
      "text/plain": [
       "\"Loading 'Asylum data tables immigration statistics October to December 2017 volume 2 second edition', sheet 'as_04'...\""
      ]
     },
     "metadata": {},
     "output_type": "display_data"
    },
    {
     "data": {
      "text/plain": [
       "'in 14s'"
      ]
     },
     "metadata": {},
     "output_type": "display_data"
    },
    {
     "data": {
      "text/plain": [
       "\"Processing 'Asylum data tables immigration statistics October to December 2017 volume 2 second edition', sheet 'as_04'\""
      ]
     },
     "metadata": {},
     "output_type": "display_data"
    },
    {
     "data": {
      "text/plain": [
       "\"Loading 'Asylum data tables immigration statistics October to December 2017 volume 4'...\""
      ]
     },
     "metadata": {},
     "output_type": "display_data"
    },
    {
     "data": {
      "text/plain": [
       "'in 40s'"
      ]
     },
     "metadata": {},
     "output_type": "display_data"
    },
    {
     "data": {
      "text/plain": [
       "\"Processing 'Asylum data tables immigration statistics October to December 2017 volume 4', sheet 'as_16_q'\""
      ]
     },
     "metadata": {},
     "output_type": "display_data"
    },
    {
     "data": {
      "text/plain": [
       "\"Loading 'Asylum data tables immigration statistics October to December 2017 volume 5', sheet 'as_22_q'...\""
      ]
     },
     "metadata": {},
     "output_type": "display_data"
    },
    {
     "data": {
      "text/plain": [
       "'in 4s'"
      ]
     },
     "metadata": {},
     "output_type": "display_data"
    },
    {
     "data": {
      "text/plain": [
       "\"Processing 'Asylum data tables immigration statistics October to December 2017 volume 5', sheet 'as_22_q'\""
      ]
     },
     "metadata": {},
     "output_type": "display_data"
    }
   ],
   "source": [
    "%run lib/scrape_govuk.ipynb\n",
    "metadata = scrape('https://www.gov.uk/government/statistics/immigration-statistics-october-to-december-2017-data-tables')\n",
    "\n",
    "import pyexcel\n",
    "from io import BytesIO\n",
    "import time\n",
    "\n",
    "ods_files = [f for f in metadata['files'] if f['type'] == 'ODS']\n",
    "\n",
    "out = Path('out')\n",
    "out.mkdir(exist_ok=True)\n",
    "\n",
    "def load_sheet(ods_file_info, sheet_name):\n",
    "    display(f\"Loading '{ods_file_info['title']}', sheet '{sheet_name}'...\")\n",
    "    start = time.time()\n",
    "    ods_file = BytesIO(session.get(ods_file_info['url']).content)\n",
    "    sheet = pyexcel.get_sheet(\n",
    "        file_content=ods_file,\n",
    "        file_type='ods',\n",
    "        sheet_name=sheet_name,\n",
    "        library='pyexcel-ods3'\n",
    "    )\n",
    "    display(f\"in {int(time.time() - start)}s\")\n",
    "    return sheet\n",
    "\n",
    "def load_book(ods_file_info):\n",
    "    display(f\"Loading '{ods_file_info['title']}'...\")\n",
    "    start = time.time()\n",
    "    ods_file = BytesIO(session.get(ods_file_info['url']).content)\n",
    "    book = pyexcel.get_book(\n",
    "        file_content=ods_file,\n",
    "        file_type='ods',\n",
    "        library='pyexcel-ods3'\n",
    "    )\n",
    "    display(f\"in {int(time.time() - start)}s\")\n",
    "    return book\n",
    "\n",
    "for ods_file_info in ods_files:\n",
    "    if ods_file_info['title'] == 'Asylum data tables immigration statistics October to December 2017 volume 5':\n",
    "        data = load_sheet(ods_file_info, 'as_22_q')\n",
    "        display(f\"Processing '{ods_file_info['title']}', sheet 'as_22_q'\")\n",
    "        %run \"Arrivals under Dublin regulations(As_22_q).ipynb\"\n",
    "    elif ods_file_info['title'] == 'Asylum data tables immigration statistics October to December 2017 volume 2 second edition':\n",
    "        data = load_sheet(ods_file_info, 'as_04')\n",
    "        display(f\"Processing '{ods_file_info['title']}', sheet 'as_04'\")\n",
    "        %run \"as_04 Asylum applications from main applicants and dependants.ipynb\"\n",
    "    elif ods_file_info['title'] == 'Asylum data tables immigration statistics October to December 2017 volume 4':\n",
    "        book = load_book(ods_file_info)\n",
    "        data = book['as_16_q']\n",
    "        display(f\"Processing '{ods_file_info['title']}', sheet 'as_16_q'\")\n",
    "        %run \"Asylum seekers receiving support(As_16_q).ipynb\"\n",
    "        data = book['as_19_q']\n",
    "        %run \"Refugees resettled(As_19_q).ipynb\"\n",
    "    elif ods_file_info['title'] == 'Asylum data tables immigration statistics October to December 2017 volume 1 second edition':\n",
    "        data = load_sheet(ods_file_info, 'as_01_q')\n",
    "        display(f\"Processing '{ods_file_info['title']}', sheet 'as_01_q'\")\n",
    "        %run \"Home Office, Immigration Statistics October to December 2016, Asylum table as 01 q.ipynb\""
   ]
  }
 ],
 "metadata": {
  "kernelspec": {
   "display_name": "Python 3",
   "language": "python",
   "name": "python3"
  },
  "language_info": {
   "codemirror_mode": {
    "name": "ipython",
    "version": 3
   },
   "file_extension": ".py",
   "mimetype": "text/x-python",
   "name": "python",
   "nbconvert_exporter": "python",
   "pygments_lexer": "ipython3",
   "version": "3.6.3"
  }
 },
 "nbformat": 4,
 "nbformat_minor": 2
}
