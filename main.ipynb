{
 "cells": [
  {
   "cell_type": "code",
   "execution_count": 1,
   "metadata": {
    "scrolled": false
   },
   "outputs": [
    {
     "data": {
      "text/plain": [
       "\"Loading 'Entry clearance visas granted outside the UK data tables immigration statistics October to December 2017 volume 1'...\""
      ]
     },
     "metadata": {},
     "output_type": "display_data"
    },
    {
     "data": {
      "text/plain": [
       "'in 19s'"
      ]
     },
     "metadata": {},
     "output_type": "display_data"
    },
    {
     "data": {
      "text/plain": [
       "\"Processing 'Entry clearance visas granted outside the UK data tables immigration statistics October to December 2017 volume 1', sheet 'vi_05'\""
      ]
     },
     "metadata": {},
     "output_type": "display_data"
    },
    {
     "data": {
      "text/html": [
       "<div>\n",
       "<style scoped>\n",
       "    .dataframe tbody tr th:only-of-type {\n",
       "        vertical-align: middle;\n",
       "    }\n",
       "\n",
       "    .dataframe tbody tr th {\n",
       "        vertical-align: top;\n",
       "    }\n",
       "\n",
       "    .dataframe thead th {\n",
       "        text-align: right;\n",
       "    }\n",
       "</style>\n",
       "<table border=\"1\" class=\"dataframe\">\n",
       "  <thead>\n",
       "    <tr style=\"text-align: right;\">\n",
       "      <th></th>\n",
       "      <th>Geographical region</th>\n",
       "      <th>Country of nationality</th>\n",
       "      <th>Year</th>\n",
       "      <th>Value</th>\n",
       "    </tr>\n",
       "  </thead>\n",
       "  <tbody>\n",
       "  </tbody>\n",
       "</table>\n",
       "</div>"
      ],
      "text/plain": [
       "Empty DataFrame\n",
       "Columns: [Geographical region, Country of nationality, Year, Value]\n",
       "Index: []"
      ]
     },
     "metadata": {},
     "output_type": "display_data"
    },
    {
     "data": {
      "text/plain": [
       "['Virgin Islands (US)',\n",
       " 'Burkina',\n",
       " 'Faroe Islands',\n",
       " 'Kiribati',\n",
       " 'Anguilla (British)',\n",
       " 'American Samoa',\n",
       " 'Serbia and Montenegro',\n",
       " 'America North',\n",
       " 'Burma',\n",
       " 'St. Helena (British)',\n",
       " 'Cyprus',\n",
       " 'St. Pierre and Miquelon',\n",
       " 'Central African Republic',\n",
       " 'Niue',\n",
       " 'Bosnia and Herzegovina',\n",
       " 'Guinea-Bissau',\n",
       " 'Asia South East',\n",
       " 'Micronesia',\n",
       " 'Pitcairn Islands (British)',\n",
       " 'EU 2',\n",
       " 'Cook Islands',\n",
       " 'Kosovo',\n",
       " 'Palau',\n",
       " 'Asia Central',\n",
       " 'Bermuda (British)',\n",
       " 'Montserrat (British)',\n",
       " 'Samoa',\n",
       " 'Cyprus (Northern part of)',\n",
       " 'Cayman Islands (British)',\n",
       " 'Korea (South)',\n",
       " 'Sudan (South)',\n",
       " 'Gibraltar (British)',\n",
       " 'Asia South',\n",
       " 'St. Lucia',\n",
       " 'Cocos (Keeling) Islands',\n",
       " 'Spain',\n",
       " 'Korea (North)',\n",
       " 'Ireland',\n",
       " 'St. Maarten (Dutch Part)',\n",
       " 'EU Other',\n",
       " 'Macau',\n",
       " 'Middle East',\n",
       " 'Africa Sub-Saharan',\n",
       " 'Other and unknown',\n",
       " 'Africa North',\n",
       " 'Curacao',\n",
       " 'Cambodia',\n",
       " 'Europe Other',\n",
       " 'Surinam',\n",
       " 'Asia East',\n",
       " 'America Central and South',\n",
       " 'Turks and Caicos Islands (British)',\n",
       " 'Virgin Islands (British)',\n",
       " 'United States',\n",
       " 'Refugee',\n",
       " 'Wallis and Futuna',\n",
       " 'British overseas citizens',\n",
       " 'EU 8',\n",
       " 'St. Kitts and Nevis',\n",
       " 'Christmas Island',\n",
       " 'Former Yugoslavia',\n",
       " 'Bonaire, Sint Eustatius and Saba',\n",
       " 'Other',\n",
       " 'Falkland Islands (British)',\n",
       " 'EU 14',\n",
       " 'Netherlands Antilles',\n",
       " 'St. Martin (French Part)',\n",
       " 'Occupied Palestinian Territories',\n",
       " 'St. Vincent and the Grenadines']"
      ]
     },
     "metadata": {},
     "output_type": "display_data"
    },
    {
     "data": {
      "text/plain": [
       "\"Processing 'Entry clearance visas granted outside the UK data tables immigration statistics October to December 2017 volume 1', sheet 'v1_01_q'\""
      ]
     },
     "metadata": {},
     "output_type": "display_data"
    },
    {
     "data": {
      "text/plain": [
       "\"Loading 'Asylum data tables immigration statistics October to December 2017 volume 1 second edition', sheet 'as_01'...\""
      ]
     },
     "metadata": {},
     "output_type": "display_data"
    },
    {
     "data": {
      "text/plain": [
       "'in 16s'"
      ]
     },
     "metadata": {},
     "output_type": "display_data"
    },
    {
     "data": {
      "text/plain": [
       "\"Processing 'Asylum data tables immigration statistics October to December 2017 volume 1 second edition', sheet 'as_01'\""
      ]
     },
     "metadata": {},
     "output_type": "display_data"
    },
    {
     "name": "stderr",
     "output_type": "stream",
     "text": [
      "Home Office, Immigration Statistics October to December 2016, Asylum table as 01 q.ipynb:17: FutureWarning: Sorting because non-concatenation axis is not aligned. A future version\n",
      "of pandas will change to not sort by default.\n",
      "\n",
      "To accept the future behavior, pass 'sort=False'.\n",
      "\n",
      "To retain the current behavior and silence the warning, pass 'sort=True'.\n",
      "\n",
      "  \"    import __main__ as main\\n\",\n"
     ]
    },
    {
     "data": {
      "text/plain": [
       "\"Loading 'Asylum data tables immigration statistics October to December 2017 volume 2 second edition', sheet 'as_04'...\""
      ]
     },
     "metadata": {},
     "output_type": "display_data"
    },
    {
     "data": {
      "text/plain": [
       "'in 17s'"
      ]
     },
     "metadata": {},
     "output_type": "display_data"
    },
    {
     "data": {
      "text/plain": [
       "\"Processing 'Asylum data tables immigration statistics October to December 2017 volume 2 second edition', sheet 'as_04'\""
      ]
     },
     "metadata": {},
     "output_type": "display_data"
    },
    {
     "name": "stderr",
     "output_type": "stream",
     "text": [
      "/home/alex/.virtualenvs/databaker/lib/python3.6/site-packages/pandas/core/frame.py:3781: SettingWithCopyWarning: \n",
      "A value is trying to be set on a copy of a slice from a DataFrame\n",
      "\n",
      "See the caveats in the documentation: http://pandas.pydata.org/pandas-docs/stable/indexing.html#indexing-view-versus-copy\n",
      "  return super(DataFrame, self).rename(**kwargs)\n"
     ]
    },
    {
     "data": {
      "text/plain": [
       "\"Loading 'Asylum data tables immigration statistics October to December 2017 volume 4'...\""
      ]
     },
     "metadata": {},
     "output_type": "display_data"
    },
    {
     "data": {
      "text/plain": [
       "'in 76s'"
      ]
     },
     "metadata": {},
     "output_type": "display_data"
    },
    {
     "data": {
      "text/plain": [
       "\"Processing 'Asylum data tables immigration statistics October to December 2017 volume 4', sheet 'as_16_q'\""
      ]
     },
     "metadata": {},
     "output_type": "display_data"
    },
    {
     "name": "stderr",
     "output_type": "stream",
     "text": [
      "/home/alex/.virtualenvs/databaker/lib/python3.6/site-packages/pandas/core/frame.py:3781: SettingWithCopyWarning: \n",
      "A value is trying to be set on a copy of a slice from a DataFrame\n",
      "\n",
      "See the caveats in the documentation: http://pandas.pydata.org/pandas-docs/stable/indexing.html#indexing-view-versus-copy\n",
      "  return super(DataFrame, self).rename(**kwargs)\n"
     ]
    },
    {
     "ename": "NameError",
     "evalue": "name 'ods_title' is not defined",
     "output_type": "error",
     "traceback": [
      "\u001b[0;31m---------------------------------------------------------------------------\u001b[0m",
      "\u001b[0;31mNameError\u001b[0m                                 Traceback (most recent call last)",
      "\u001b[0;32m~/Development/ONS/migration/Home-office-migration-data/Asylum seekers receiving support(As_16_q).ipynb\u001b[0m in \u001b[0;36m<module>\u001b[0;34m()\u001b[0m\n\u001b[1;32m      6\u001b[0m writeMetadata(metadata,\n\u001b[1;32m      7\u001b[0m               \u001b[0;34m'Asylum seekers receiving support'\u001b[0m\u001b[0;34m,\u001b[0m\u001b[0;34m\u001b[0m\u001b[0m\n\u001b[0;32m----> 8\u001b[0;31m               ods_title, 'Migration')\n\u001b[0m",
      "\u001b[0;31mNameError\u001b[0m: name 'ods_title' is not defined"
     ]
    },
    {
     "name": "stderr",
     "output_type": "stream",
     "text": [
      "/home/alex/.virtualenvs/databaker/lib/python3.6/site-packages/pandas/core/frame.py:3781: SettingWithCopyWarning: \n",
      "A value is trying to be set on a copy of a slice from a DataFrame\n",
      "\n",
      "See the caveats in the documentation: http://pandas.pydata.org/pandas-docs/stable/indexing.html#indexing-view-versus-copy\n",
      "  return super(DataFrame, self).rename(**kwargs)\n"
     ]
    },
    {
     "data": {
      "text/plain": [
       "\"Loading 'Asylum data tables immigration statistics October to December 2017 volume 5', sheet 'as_22_q'...\""
      ]
     },
     "metadata": {},
     "output_type": "display_data"
    },
    {
     "data": {
      "text/plain": [
       "'in 6s'"
      ]
     },
     "metadata": {},
     "output_type": "display_data"
    },
    {
     "data": {
      "text/plain": [
       "\"Processing 'Asylum data tables immigration statistics October to December 2017 volume 5', sheet 'as_22_q'\""
      ]
     },
     "metadata": {},
     "output_type": "display_data"
    },
    {
     "name": "stderr",
     "output_type": "stream",
     "text": [
      "/home/alex/.virtualenvs/databaker/lib/python3.6/site-packages/pandas/core/frame.py:3781: SettingWithCopyWarning: \n",
      "A value is trying to be set on a copy of a slice from a DataFrame\n",
      "\n",
      "See the caveats in the documentation: http://pandas.pydata.org/pandas-docs/stable/indexing.html#indexing-view-versus-copy\n",
      "  return super(DataFrame, self).rename(**kwargs)\n"
     ]
    }
   ],
   "source": [
    "%run lib/scrape_govuk.ipynb\n",
    "metadata = scrape('https://www.gov.uk/government/statistics/immigration-statistics-october-to-december-2017-data-tables')\n",
    "\n",
    "import pyexcel\n",
    "from io import BytesIO\n",
    "import time\n",
    "\n",
    "ods_files = [f for f in metadata['files'] if f['type'] == 'ODS']\n",
    "\n",
    "out = Path('out')\n",
    "out.mkdir(exist_ok=True)\n",
    "\n",
    "def load_sheet(ods_file_info, sheet_name):\n",
    "    display(f\"Loading '{ods_file_info['title']}', sheet '{sheet_name}'...\")\n",
    "    start = time.time()\n",
    "    ods_file = BytesIO(session.get(ods_file_info['url']).content)\n",
    "    sheet = pyexcel.get_sheet(\n",
    "        file_content=ods_file,\n",
    "        file_type='ods',\n",
    "        sheet_name=sheet_name,\n",
    "        library='pyexcel-ods3'\n",
    "    )\n",
    "    display(f\"in {int(time.time() - start)}s\")\n",
    "    return sheet\n",
    "\n",
    "def load_book(ods_file_info):\n",
    "    display(f\"Loading '{ods_file_info['title']}'...\")\n",
    "    start = time.time()\n",
    "    ods_file = BytesIO(session.get(ods_file_info['url']).content)\n",
    "    book = pyexcel.get_book(\n",
    "        file_content=ods_file,\n",
    "        file_type='ods',\n",
    "        library='pyexcel-ods3'\n",
    "    )\n",
    "    display(f\"in {int(time.time() - start)}s\")\n",
    "    return book\n",
    "\n",
    "for ods_file_info in ods_files:\n",
    "    if ods_file_info['title'] == 'Entry clearance visas granted outside the UK data tables immigration statistics October to December 2017 volume 1':\n",
    "        book = load_book(ods_file_info)\n",
    "        data = book['vi_05']\n",
    "        display(f\"Processing '{ods_file_info['title']}', sheet 'vi_05'\")\n",
    "        %run \"Entry clearance visas granted by country of nationality(Vi_05).ipynb\"\n",
    "        entry_1 = tidy.copy()\n",
    "        data = book['vi_01_q']\n",
    "        display(f\"Processing '{ods_file_info['title']}', sheet 'v1_01_q'\")\n",
    "        %run \"Entry clearance visa applications and resolution by category ( vi_01_q).ipynb\"\n",
    "        entry_2 = tidy.copy()\n",
    "        entry_1.rename(columns={'Year': 'Period'}, inplace=True)\n",
    "        entry_1.replace(\n",
    "            {'Period': r'$([0-9]{4})^'}, {'Period': r'year/\\1'}, regex=True, inplace=True\n",
    "        )\n",
    "        for col in ['Type', 'Broad category', 'Applicant type', 'Category', 'Resolution']:\n",
    "            entry_1[col] = 'All'\n",
    "        # Todo: \"World\" or \"Not UK\"?\n",
    "        entry_2['Country of nationality'] = 'World'\n",
    "        pd.concat([entry_1, entry_2], sort=True).to_csv(out / 'entry_visas.csv', index=False)\n",
    "    elif ods_file_info['title'] == 'Asylum data tables immigration statistics October to December 2017 volume 5':\n",
    "        data = load_sheet(ods_file_info, 'as_22_q')\n",
    "        display(f\"Processing '{ods_file_info['title']}', sheet 'as_22_q'\")\n",
    "        %run \"Arrivals under Dublin regulations(As_22_q).ipynb\"\n",
    "    elif ods_file_info['title'] == 'Asylum data tables immigration statistics October to December 2017 volume 2 second edition':\n",
    "        data = load_sheet(ods_file_info, 'as_04')\n",
    "        display(f\"Processing '{ods_file_info['title']}', sheet 'as_04'\")\n",
    "        %run \"as_04 Asylum applications from main applicants and dependants.ipynb\"\n",
    "    elif ods_file_info['title'] == 'Asylum data tables immigration statistics October to December 2017 volume 4':\n",
    "        book = load_book(ods_file_info)\n",
    "        data = book['as_16_q']\n",
    "        display(f\"Processing '{ods_file_info['title']}', sheet 'as_16_q'\")\n",
    "        %run \"Asylum seekers receiving support(As_16_q).ipynb\"\n",
    "        data = book['as_19_q']\n",
    "        %run \"Refugees resettled(As_19_q).ipynb\"\n",
    "    elif ods_file_info['title'] == 'Asylum data tables immigration statistics October to December 2017 volume 1 second edition':\n",
    "        data = load_sheet(ods_file_info, 'as_01')\n",
    "        display(f\"Processing '{ods_file_info['title']}', sheet 'as_01'\")\n",
    "        %run \"Home Office, Immigration Statistics October to December 2016, Asylum table as 01 q.ipynb\""
   ]
  }
 ],
 "metadata": {
  "kernelspec": {
   "display_name": "Python 3",
   "language": "python",
   "name": "python3"
  },
  "language_info": {
   "codemirror_mode": {
    "name": "ipython",
    "version": 3
   },
   "file_extension": ".py",
   "mimetype": "text/x-python",
   "name": "python",
   "nbconvert_exporter": "python",
   "pygments_lexer": "ipython3",
   "version": "3.6.6"
  }
 },
 "nbformat": 4,
 "nbformat_minor": 2
}
