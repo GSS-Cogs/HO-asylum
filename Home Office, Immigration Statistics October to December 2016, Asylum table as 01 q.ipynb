{
 "cells": [
  {
   "cell_type": "markdown",
   "metadata": {},
   "source": [
    "Home Office, Immigration Statistics October to December 2016, Asylum table as 01 q (Asylum volume 1)"
   ]
  },
  {
   "cell_type": "code",
   "execution_count": 1,
   "metadata": {},
   "outputs": [
    {
     "data": {
      "text/markdown": [
       "## Immigration statistics, October to December 2017: data tables second edition\n",
       "\n",
       "Listing of the data tables included in 'Immigration statistics, October to December 2017’.\n",
       "\n",
       "### Description\n",
       "\n",
       "Listing of the data tables included in [‘Immigration Statistics, October to\n",
       "December 2017’](https://www.gov.uk/government/statistics/immigration-\n",
       "statistics-october-to-december-2017).\n",
       "\n",
       "Data is in yearly or quarterly divisions.\n",
       "\n",
       "To view and use ‘ODS’ files, OS X users can [download\n",
       "OpenOffice](http://www.openoffice.org/download/).\n",
       "\n",
       "\n",
       "\n",
       "### Distributions\n",
       "\n",
       "1. Sponsorship data tables immigration statistics October to December 2017 ([ODF Spreadsheet](https://www.gov.uk/government/uploads/system/uploads/attachment_data/file/683358/sponsorship-oct-dec-2017-tables.ods))\n",
       "1. Entry clearance visas granted outside the UK data tables immigration statistics October to December 2017 volume 1 ([ODF Spreadsheet](https://www.gov.uk/government/uploads/system/uploads/attachment_data/file/683359/entry-visas1-oct-dec-2017-tables.ods))\n",
       "1. Entry clearance visas granted outside the UK data tables immigration statistics October to December 2017 volume 2 ([ODF Spreadsheet](https://www.gov.uk/government/uploads/system/uploads/attachment_data/file/681238/entry-visas2-oct-dec-2017-tables.ods))\n",
       "1. Entry clearance visas granted outside the UK data tables immigration statistics October to December 2017 volume 3 ([ODF Spreadsheet](https://www.gov.uk/government/uploads/system/uploads/attachment_data/file/681241/entry-visas3-oct-dec-2017-tables.ods))\n",
       "1. Admissions data tables immigration statistics October to December 2017 ([ODF Spreadsheet](https://www.gov.uk/government/uploads/system/uploads/attachment_data/file/681242/admissions-oct-dec-2017-tables.ods))\n",
       "1. Extensions of stay data tables immigration statistics October to December 2017 ([ODF Spreadsheet](https://www.gov.uk/government/uploads/system/uploads/attachment_data/file/681243/extensions-oct-dec-2017-tables.ods))\n",
       "1. Settlement data tables immigration statistics October to December 2017 ([ODF Spreadsheet](https://www.gov.uk/government/uploads/system/uploads/attachment_data/file/681244/settlement-oct-dec-2017-tables.ods))\n",
       "1. Citizenship data tables immigration statistics October to December 2017 ([ODF Spreadsheet](https://www.gov.uk/government/uploads/system/uploads/attachment_data/file/683360/citizenship-oct-dec-2017-tables.ods))\n",
       "1. Asylum data tables immigration statistics October to December 2017 volume 1 second edition ([ODF Spreadsheet](https://www.gov.uk/government/uploads/system/uploads/attachment_data/file/691963/asylum1-oct-dec-2017-tables.ods))\n",
       "1. Asylum data tables immigration statistics October to December 2017 volume 2 second edition ([ODF Spreadsheet](https://www.gov.uk/government/uploads/system/uploads/attachment_data/file/691964/asylum2-oct-dec-2017-tables.ods))\n",
       "1. Asylum data tables immigration statistics October to December 2017 volume 3 ([ODF Spreadsheet](https://www.gov.uk/government/uploads/system/uploads/attachment_data/file/691965/asylum3-oct-dec-2017-tables.ods))\n",
       "1. Asylum data tables immigration statistics October to December 2017 volume 4 ([ODF Spreadsheet](https://www.gov.uk/government/uploads/system/uploads/attachment_data/file/691967/asylum4-oct-dec-2017-tables.ods))\n",
       "1. Asylum data tables immigration statistics October to December 2017 volume 5 ([ODF Spreadsheet](https://www.gov.uk/government/uploads/system/uploads/attachment_data/file/691969/asylum5-oct-dec-2017-tables.ods))\n",
       "1. Returns data tables immigration statistics October to December 2017 volume 1 ([ODF Spreadsheet](https://www.gov.uk/government/uploads/system/uploads/attachment_data/file/681246/returns1-oct-dec-2017-tables.ods))\n",
       "1. Returns data tables immigration statistics October to December 2017 volume 2 ([ODF Spreadsheet](https://www.gov.uk/government/uploads/system/uploads/attachment_data/file/683361/returns2-oct-dec-2017-tables.ods))\n",
       "1. Returns data tables immigration statistics October to December 2017 volume 3 ([ODF Spreadsheet](https://www.gov.uk/government/uploads/system/uploads/attachment_data/file/683362/returns3-oct-dec-2017-tables.ods))\n",
       "1. Returns data tables immigration statistics October to December 2017 volume 4 ([ODF Spreadsheet](https://www.gov.uk/government/uploads/system/uploads/attachment_data/file/681250/returns4-oct-dec-2017-tables.ods))\n",
       "1. Returns data tables immigration statistics October to December 2017 volume 5 ([ODF Spreadsheet](https://www.gov.uk/government/uploads/system/uploads/attachment_data/file/681251/returns5-oct-dec-2017-tables.ods))\n",
       "1. Detention data tables immigration statistics October to December 2017 ([ODF Spreadsheet](https://www.gov.uk/government/uploads/system/uploads/attachment_data/file/681703/detention-oct-dec-2017-tables.ods))\n",
       "1. European Economic Area data tables immigration statistics October to December 2017 ([ODF Spreadsheet](https://www.gov.uk/government/uploads/system/uploads/attachment_data/file/681253/eea-oct-dec-2017-tables.ods))\n"
      ],
      "text/plain": [
       "<gssutils.scrape.Scraper at 0x7fde78f96dd8>"
      ]
     },
     "execution_count": 1,
     "metadata": {},
     "output_type": "execute_result"
    }
   ],
   "source": [
    "from gssutils import *\n",
    "\n",
    "scraper = Scraper('https://www.gov.uk/government/statistics/immigration-statistics-october-to-december-2017-data-tables')\n",
    "scraper"
   ]
  },
  {
   "cell_type": "code",
   "execution_count": 2,
   "metadata": {},
   "outputs": [
    {
     "name": "stderr",
     "output_type": "stream",
     "text": [
      "WARNING:Cache entry deserialization failed, entry ignored\n"
     ]
    }
   ],
   "source": [
    "dist = scraper.distribution(\n",
    "    title='Asylum data tables immigration statistics October to December 2017 volume 1 second edition'\n",
    ")\n",
    "df = dist.as_pandas(sheet_name='as_01_q')"
   ]
  },
  {
   "cell_type": "code",
   "execution_count": 3,
   "metadata": {},
   "outputs": [],
   "source": [
    "observations = df.loc[3:, :26]\n",
    "observations.rename(columns= observations.iloc[0], inplace=True)\n",
    "observations.drop(observations.index[0], inplace = True)\n",
    "observations.drop('Geographical region', axis = 1, inplace = True)\n",
    "Final_table = pd.melt(observations,\n",
    "                       ['Quarter','Country of nationality'],\n",
    "                       var_name= 'Asylum Application',\n",
    "                       value_name=\"Value\")\n",
    "Final_table.Value.dropna(inplace =True)\n",
    "Final_table.rename(columns={'Country of nationality': 'Nationality'}, inplace=True)\n",
    "Final_table['Unit'] = 'applications'\n",
    "Final_table['Measure Type'] = 'Count'"
   ]
  },
  {
   "cell_type": "code",
   "execution_count": 4,
   "metadata": {},
   "outputs": [],
   "source": [
    "Final_table['Value'] = Final_table['Value'].map(lambda x : ''\n",
    "                                                   if (x == '.') | (x == 'z') | ( x == ':')\n",
    "                                                    else x )"
   ]
  },
  {
   "cell_type": "code",
   "execution_count": 5,
   "metadata": {},
   "outputs": [],
   "source": [
    "import numpy as np\n",
    "Final_table['Value'].replace('', np.nan, inplace=True)\n",
    "Final_table.dropna(subset=['Value'], inplace=True)\n",
    "Final_table['Value'] = Final_table['Value'].apply(lambda x: pd.to_numeric(x, downcast='integer'))\n",
    "Final_table['Value'] = Final_table['Value'].astype(int)"
   ]
  },
  {
   "cell_type": "code",
   "execution_count": 6,
   "metadata": {},
   "outputs": [],
   "source": [
    "Final_table.rename(columns={'Quarter': 'Period'}, inplace=True)\n",
    "Final_table['Period'] = Final_table['Period'].astype(str)\n",
    "Final_table = Final_table[Final_table['Period'] != '']\n",
    "Final_table['Period'] = 'quarter/' + Final_table['Period'].map(lambda cell: cell.replace(' ','-'))"
   ]
  },
  {
   "cell_type": "code",
   "execution_count": 7,
   "metadata": {},
   "outputs": [],
   "source": [
    "Final_table['Nationality'] = Final_table['Nationality'].str.lstrip('*')"
   ]
  },
  {
   "cell_type": "code",
   "execution_count": 8,
   "metadata": {},
   "outputs": [],
   "source": [
    "Final_table['Nationality'] = Final_table['Nationality'].map(\n",
    "    lambda x: {\n",
    "        'Total Africa North' : 'Africa North',\n",
    "        'Total Africa Sub-Saharan' : 'Africa Sub-Saharan',\n",
    "        'Total America North' : 'America North',\n",
    "        'Total America Central and South ' : 'America Central and South',\n",
    "        'Total Asia Central' : 'Asia Central',\n",
    "        'Total Asia East' : 'Asia East',\n",
    "        'Total Asia South' : 'Asia South',\n",
    "        'Total Asia South East' : 'Asia South East',\n",
    "        'Total EU 14' : 'EU 14',\n",
    "        'Total EU 2' : 'EU 2',\n",
    "        'Total EU 8' : 'EU 8',\n",
    "        'Total EU Other' : 'EU Other',\n",
    "        'Total Europe Other' : 'Europe Other',\n",
    "        'Total Middle East' : 'Middle East',\n",
    "        'Total Oceania' : 'Oceania',\n",
    "        'Total Other' : 'Other'                    \n",
    "        }.get(x, x))"
   ]
  },
  {
   "cell_type": "code",
   "execution_count": 9,
   "metadata": {},
   "outputs": [],
   "source": [
    "import urllib.request as request\n",
    "import csv\n",
    "import io\n",
    "import requests\n",
    "r = request.urlopen('https://raw.githubusercontent.com/ONS-OpenData/ref_migration/master/codelists/ho-country-of-nationality.csv').read().decode('utf8').split(\"\\n\")\n",
    "reader = csv.reader(r)\n",
    "\n",
    "url=\"https://raw.githubusercontent.com/ONS-OpenData/ref_migration/master/codelists/ho-country-of-nationality.csv\"\n",
    "s=requests.get(url).content\n",
    "c=pd.read_csv(io.StringIO(s.decode('utf-8')))\n",
    "Final_table = pd.merge(Final_table, c, how = 'left', left_on = 'Nationality', right_on = 'Label')\n",
    "Final_table.columns = ['Country of nationality' if x=='Notation' else x for x in Final_table.columns]"
   ]
  },
  {
   "cell_type": "code",
   "execution_count": 10,
   "metadata": {},
   "outputs": [],
   "source": [
    "Final_table = Final_table[['Country of nationality','Period','Asylum Application','Measure Type','Value','Unit']]"
   ]
  },
  {
   "cell_type": "code",
   "execution_count": 11,
   "metadata": {},
   "outputs": [],
   "source": [
    "Final_table['Asylum Application'] = Final_table['Asylum Application'].map(\n",
    "    lambda x: {\n",
    "        'Pending further \\nreview': 'Pending further review',\n",
    "        'Other \\ngrants' : 'Other grants',\n",
    "        'Total pending initial \\ndecision' : 'Total pending initial decision'                \n",
    "        }.get(x, x))"
   ]
  },
  {
   "cell_type": "code",
   "execution_count": 12,
   "metadata": {},
   "outputs": [
    {
     "data": {
      "text/plain": [
       "'Country of nationality'"
      ]
     },
     "metadata": {},
     "output_type": "display_data"
    },
    {
     "data": {
      "text/plain": [
       "Index(['afghanistan', 'africa-north', 'africa-sub-saharan', 'albania',\n",
       "       'algeria', 'america-central-and-south', 'america-north',\n",
       "       'american-samoa', 'andorra', 'angola',\n",
       "       ...\n",
       "       'vatican-city', 'venezuela', 'vietnam', 'virgin-islands-british',\n",
       "       'virgin-islands-us', 'wallis-and-futuna', 'western-sahara', 'yemen',\n",
       "       'zambia', 'zimbabwe'],\n",
       "      dtype='object', length=264)"
      ]
     },
     "metadata": {},
     "output_type": "display_data"
    },
    {
     "data": {
      "text/plain": [
       "'Asylum Application'"
      ]
     },
     "metadata": {},
     "output_type": "display_data"
    },
    {
     "data": {
      "text/plain": [
       "Index(['3rd country refusals', 'Applications received at ports',\n",
       "       'Applications received in-country', 'Certified refusals',\n",
       "       'Fresh claims', 'Grants of DL', 'Grants of ELR', 'Grants of HP',\n",
       "       'Grants of asylum', 'Non-compliance refusals',\n",
       "       'Non-substantiated withdrawals', 'Other grants', 'Other refusals',\n",
       "       'Pending further review',\n",
       "       'Pending initial decision for less than or equal to 6 months',\n",
       "       'Pending initial decision for more than 6 months', 'Total applications',\n",
       "       'Total grants', 'Total initial decisions', 'Total pending',\n",
       "       'Total pending initial decision', 'Total refusals',\n",
       "       'Total withdrawals'],\n",
       "      dtype='object')"
      ]
     },
     "metadata": {},
     "output_type": "display_data"
    },
    {
     "data": {
      "text/plain": [
       "'Measure Type'"
      ]
     },
     "metadata": {},
     "output_type": "display_data"
    },
    {
     "data": {
      "text/plain": [
       "Index(['Count'], dtype='object')"
      ]
     },
     "metadata": {},
     "output_type": "display_data"
    },
    {
     "data": {
      "text/plain": [
       "'Unit'"
      ]
     },
     "metadata": {},
     "output_type": "display_data"
    },
    {
     "data": {
      "text/plain": [
       "Index(['applications'], dtype='object')"
      ]
     },
     "metadata": {},
     "output_type": "display_data"
    }
   ],
   "source": [
    "for col in Final_table.columns:\n",
    "    if col not in ['Value', 'Period']:\n",
    "        Final_table[col] = Final_table[col].astype('category')\n",
    "        display(col)\n",
    "        display(Final_table[col].cat.categories)"
   ]
  },
  {
   "cell_type": "code",
   "execution_count": 13,
   "metadata": {},
   "outputs": [],
   "source": [
    "import urllib.request as request\n",
    "import csv\n",
    "import io\n",
    "import requests\n",
    "r = request.urlopen('https://raw.githubusercontent.com/ONS-OpenData/ref_migration/master/codelists/asylum-application-status.csv').read().decode('utf8').split(\"\\n\")\n",
    "reader = csv.reader(r)\n",
    "\n",
    "url=\"https://raw.githubusercontent.com/ONS-OpenData/ref_migration/master/codelists/asylum-application-status.csv\"\n",
    "s=requests.get(url).content\n",
    "c=pd.read_csv(io.StringIO(s.decode('utf-8')))\n",
    "Final_table = pd.merge(Final_table, c, how = 'left', left_on = 'Asylum Application', right_on = 'Label')\n",
    "Final_table.columns = ['Asylum Application Status' if x=='Notation' else x for x in Final_table.columns]"
   ]
  },
  {
   "cell_type": "code",
   "execution_count": 14,
   "metadata": {},
   "outputs": [],
   "source": [
    "Final_table = Final_table[['Country of nationality','Period','Asylum Application Status','Measure Type','Value','Unit']]"
   ]
  },
  {
   "cell_type": "code",
   "execution_count": 15,
   "metadata": {},
   "outputs": [],
   "source": [
    "destinationFolder = Path('out')\n",
    "destinationFolder.mkdir(exist_ok=True, parents=True)\n",
    "\n",
    "Final_table.to_csv(destinationFolder / ('as_01_q.csv'), index = False)"
   ]
  },
  {
   "cell_type": "code",
   "execution_count": 16,
   "metadata": {},
   "outputs": [],
   "source": [
    "from gssutils.metadata import THEME\n",
    "\n",
    "scraper.dataset.family = 'migration'\n",
    "scraper.dataset.theme = THEME['population']\n",
    "scraper.set_base_uri('http://gss-data.org.uk')\n",
    "scraper.set_dataset_id('migration/ho-asylum/as_01_q')\n",
    "with open(destinationFolder / 'as_01_q.csv-metadata.trig', 'wb') as metadata:\n",
    "    metadata.write(scraper.generate_trig())"
   ]
  }
 ],
 "metadata": {
  "kernelspec": {
   "display_name": "Python 3",
   "language": "python",
   "name": "python3"
  },
  "language_info": {
   "codemirror_mode": {
    "name": "ipython",
    "version": 3
   },
   "file_extension": ".py",
   "mimetype": "text/x-python",
   "name": "python",
   "nbconvert_exporter": "python",
   "pygments_lexer": "ipython3",
   "version": "3.7.2"
  }
 },
 "nbformat": 4,
 "nbformat_minor": 2
}
