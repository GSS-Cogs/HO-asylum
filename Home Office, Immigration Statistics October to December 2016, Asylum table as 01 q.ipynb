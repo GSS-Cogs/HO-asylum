{
 "cells": [
  {
   "cell_type": "markdown",
   "metadata": {},
   "source": [
    "Home Office, Immigration Statistics October to December 2016, Asylum table as 01 q (Asylum volume 1)"
   ]
  },
  {
   "cell_type": "code",
   "execution_count": 1,
   "metadata": {
    "collapsed": true
   },
   "outputs": [],
   "source": [
    "def is_interactive():\n",
    "    import __main__ as main\n",
    "    return not hasattr(main, '__file__')\n",
    "\n",
    "if is_interactive():\n",
    "    %run lib/scrape_govuk.ipynb\n",
    "    metadata = scrape('https://www.gov.uk/government/statistics/immigration-statistics-october-to-december-2017-data-tables')\n",
    "    import pyexcel\n",
    "    from io import BytesIO\n",
    "\n",
    "    ods_files = [f for f in metadata['files']\n",
    "                 if f['type'] == 'ODS' and\n",
    "                 f['title'] == 'Asylum data tables immigration statistics October to December 2017 volume 1 second edition']\n",
    "    assert len(ods_files) == 1, 'Should be exactly one matching ODS file'\n",
    "\n",
    "    ods_url = ods_files[0]['url']\n",
    "    ods_title = ods_files[0]['title']\n",
    "\n",
    "    ods_file = BytesIO(session.get(ods_files[0]['url']).content)\n",
    "\n",
    "    data = pyexcel.get_sheet(file_content=ods_file, file_type='ods', sheet_name='as_01_q', library='pyexcel-ods3')"
   ]
  },
  {
   "cell_type": "code",
   "execution_count": 2,
   "metadata": {},
   "outputs": [],
   "source": [
    "df = pd.DataFrame(data.get_array())"
   ]
  },
  {
   "cell_type": "code",
   "execution_count": 3,
   "metadata": {},
   "outputs": [],
   "source": [
    "observations = df.loc[3:, :26]\n",
    "observations.rename(columns= observations.iloc[0], inplace=True)\n",
    "observations.drop(observations.index[0], inplace = True)\n",
    "observations.drop('Geographical region', axis = 1, inplace = True)\n",
    "Final_table = pd.melt(observations,\n",
    "                       ['Quarter','Country of nationality'],\n",
    "                       var_name= 'Asylum Application',\n",
    "                       value_name=\"Value\")\n",
    "Final_table.Value.dropna(inplace =True)\n",
    "Final_table.rename(columns={'Country of nationality': 'Nationality'}, inplace=True)\n",
    "Final_table['Unit'] = 'Applications'\n",
    "Final_table['Measure Type'] = 'Count'"
   ]
  },
  {
   "cell_type": "code",
   "execution_count": 4,
   "metadata": {},
   "outputs": [],
   "source": [
    "Final_table['Value'] = Final_table['Value'].map(lambda x : ''\n",
    "                                                   if (x == '.') | (x == 'z') | ( x == ':')\n",
    "                                                    else x )"
   ]
  },
  {
   "cell_type": "code",
   "execution_count": 5,
   "metadata": {},
   "outputs": [],
   "source": [
    "import numpy as np\n",
    "Final_table['Value'].replace('', np.nan, inplace=True)\n",
    "Final_table.dropna(subset=['Value'], inplace=True)\n",
    "Final_table['Value'] = Final_table['Value'].apply(lambda x: pd.to_numeric(x, downcast='integer'))\n",
    "Final_table['Value'] = Final_table['Value'].astype(int)"
   ]
  },
  {
   "cell_type": "code",
   "execution_count": 6,
   "metadata": {
    "collapsed": true
   },
   "outputs": [],
   "source": [
    "Final_table.rename(columns={'Quarter': 'Period'}, inplace=True)\n",
    "Final_table['Period'] = Final_table['Period'].astype(str)\n",
    "Final_table = Final_table[Final_table['Period'] != '']\n",
    "Final_table['Period'] = 'quarter/' + Final_table['Period'].map(lambda cell: cell.replace(' ','-'))"
   ]
  },
  {
   "cell_type": "code",
   "execution_count": 7,
   "metadata": {
    "collapsed": true
   },
   "outputs": [],
   "source": [
    "Final_table['Nationality'] = Final_table['Nationality'].str.lstrip('*')"
   ]
  },
  {
   "cell_type": "code",
   "execution_count": 8,
   "metadata": {
    "collapsed": true
   },
   "outputs": [],
   "source": [
    "Final_table['Nationality'] = Final_table['Nationality'].map(\n",
    "    lambda x: {\n",
    "        'Total Africa North' : 'Africa North',\n",
    "        'Total Africa Sub-Saharan' : 'Africa Sub-Saharan',\n",
    "        'Total America North' : 'America North',\n",
    "        'Total America Central and South ' : 'America Central and South',\n",
    "        'Total Asia Central' : 'Asia Central',\n",
    "        'Total Asia East' : 'Asia East',\n",
    "        'Total Asia South' : 'Asia South',\n",
    "        'Total Asia South East' : 'Asia South East',\n",
    "        'Total EU 14' : 'EU 14',\n",
    "        'Total EU 2' : 'EU 2',\n",
    "        'Total EU 8' : 'EU 8',\n",
    "        'Total EU Other' : 'EU Other',\n",
    "        'Total Europe Other' : 'Europe Other',\n",
    "        'Total Middle East' : 'Middle East',\n",
    "        'Total Oceania' : 'Oceania',\n",
    "        'Total Other' : 'Other'                    \n",
    "        }.get(x, x))"
   ]
  },
  {
   "cell_type": "code",
   "execution_count": 9,
   "metadata": {},
   "outputs": [],
   "source": [
    "import urllib.request as request\n",
    "import csv\n",
    "import io\n",
    "import requests\n",
    "r = request.urlopen('https://raw.githubusercontent.com/ONS-OpenData/ref_migration/master/codelists/ho-country-of-nationality.csv').read().decode('utf8').split(\"\\n\")\n",
    "reader = csv.reader(r)\n",
    "\n",
    "url=\"https://raw.githubusercontent.com/ONS-OpenData/ref_migration/master/codelists/ho-country-of-nationality.csv\"\n",
    "s=requests.get(url).content\n",
    "c=pd.read_csv(io.StringIO(s.decode('utf-8')))\n",
    "Final_table = pd.merge(Final_table, c, how = 'left', left_on = 'Nationality', right_on = 'Label')\n",
    "Final_table.columns = ['Country of nationality' if x=='Notation' else x for x in Final_table.columns]"
   ]
  },
  {
   "cell_type": "code",
   "execution_count": 10,
   "metadata": {
    "collapsed": true
   },
   "outputs": [],
   "source": [
    "Final_table = Final_table[['Country of nationality','Period','Asylum Application','Measure Type','Value','Unit']]"
   ]
  },
  {
   "cell_type": "code",
   "execution_count": 11,
   "metadata": {},
   "outputs": [],
   "source": [
    "Final_table['Asylum Application'] = Final_table['Asylum Application'].map(\n",
    "    lambda x: {\n",
    "        'Pending further \\nreview': 'Pending further review',\n",
    "        'Other \\ngrants' : 'Other grants',\n",
    "        'Total pending initial \\ndecision' : 'Total pending initial decision'                \n",
    "        }.get(x, x))"
   ]
  },
  {
   "cell_type": "code",
   "execution_count": 12,
   "metadata": {},
   "outputs": [
    {
     "data": {
      "text/plain": [
       "'Country of nationality'"
      ]
     },
     "metadata": {},
     "output_type": "display_data"
    },
    {
     "data": {
      "text/plain": [
       "Index(['afghanistan', 'africa-north', 'africa-sub-saharan', 'albania',\n",
       "       'algeria', 'america-central-and-south', 'america-north',\n",
       "       'american-samoa', 'andorra', 'angola',\n",
       "       ...\n",
       "       'vatican-city', 'venezuela', 'vietnam', 'virgin-islands-british',\n",
       "       'virgin-islands-us', 'wallis-and-futuna', 'western-sahara', 'yemen',\n",
       "       'zambia', 'zimbabwe'],\n",
       "      dtype='object', length=264)"
      ]
     },
     "metadata": {},
     "output_type": "display_data"
    },
    {
     "data": {
      "text/plain": [
       "'Asylum Application'"
      ]
     },
     "metadata": {},
     "output_type": "display_data"
    },
    {
     "data": {
      "text/plain": [
       "Index(['3rd country refusals', 'Applications received at ports',\n",
       "       'Applications received in-country', 'Certified refusals',\n",
       "       'Fresh claims', 'Grants of DL', 'Grants of ELR', 'Grants of HP',\n",
       "       'Grants of asylum', 'Non-compliance refusals',\n",
       "       'Non-substantiated withdrawals', 'Other grants', 'Other refusals',\n",
       "       'Pending further review',\n",
       "       'Pending initial decision for less than or equal to 6 months',\n",
       "       'Pending initial decision for more than 6 months', 'Total applications',\n",
       "       'Total grants', 'Total initial decisions', 'Total pending',\n",
       "       'Total pending initial decision', 'Total refusals',\n",
       "       'Total withdrawals'],\n",
       "      dtype='object')"
      ]
     },
     "metadata": {},
     "output_type": "display_data"
    },
    {
     "data": {
      "text/plain": [
       "'Measure Type'"
      ]
     },
     "metadata": {},
     "output_type": "display_data"
    },
    {
     "data": {
      "text/plain": [
       "Index(['Count'], dtype='object')"
      ]
     },
     "metadata": {},
     "output_type": "display_data"
    },
    {
     "data": {
      "text/plain": [
       "'Unit'"
      ]
     },
     "metadata": {},
     "output_type": "display_data"
    },
    {
     "data": {
      "text/plain": [
       "Index(['Applications'], dtype='object')"
      ]
     },
     "metadata": {},
     "output_type": "display_data"
    }
   ],
   "source": [
    "for col in Final_table.columns:\n",
    "    if col not in ['Value', 'Period']:\n",
    "        Final_table[col] = Final_table[col].astype('category')\n",
    "        display(col)\n",
    "        display(Final_table[col].cat.categories)"
   ]
  },
  {
   "cell_type": "code",
   "execution_count": 13,
   "metadata": {
    "collapsed": true
   },
   "outputs": [],
   "source": [
    "import urllib.request as request\n",
    "import csv\n",
    "import io\n",
    "import requests\n",
    "r = request.urlopen('https://raw.githubusercontent.com/ONS-OpenData/ref_migration/master/codelists/asylum-application-status.csv').read().decode('utf8').split(\"\\n\")\n",
    "reader = csv.reader(r)\n",
    "\n",
    "url=\"https://raw.githubusercontent.com/ONS-OpenData/ref_migration/master/codelists/asylum-application-status.csv\"\n",
    "s=requests.get(url).content\n",
    "c=pd.read_csv(io.StringIO(s.decode('utf-8')))\n",
    "Final_table = pd.merge(Final_table, c, how = 'left', left_on = 'Asylum Application', right_on = 'Label')\n",
    "Final_table.columns = ['Asylum Application Status' if x=='Notation' else x for x in Final_table.columns]"
   ]
  },
  {
   "cell_type": "code",
   "execution_count": 14,
   "metadata": {
    "collapsed": true
   },
   "outputs": [],
   "source": [
    "Final_table = Final_table[['Country of nationality','Period','Asylum Application Status','Measure Type','Value','Unit']]"
   ]
  },
  {
   "cell_type": "code",
   "execution_count": 15,
   "metadata": {},
   "outputs": [],
   "source": [
    "destinationFolder = Path('out')\n",
    "destinationFolder.mkdir(exist_ok=True, parents=True)\n",
    "\n",
    "Final_table.to_csv(destinationFolder / ('as_01_q.csv'), index = False)"
   ]
  }
 ],
 "metadata": {
  "kernelspec": {
   "display_name": "Python 3",
   "language": "python",
   "name": "python3"
  },
  "language_info": {
   "codemirror_mode": {
    "name": "ipython",
    "version": 3
   },
   "file_extension": ".py",
   "mimetype": "text/x-python",
   "name": "python",
   "nbconvert_exporter": "python",
   "pygments_lexer": "ipython3",
   "version": "3.6.3"
  }
 },
 "nbformat": 4,
 "nbformat_minor": 2
}
